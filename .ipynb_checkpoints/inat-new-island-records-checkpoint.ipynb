{
 "cells": [
  {
   "cell_type": "code",
   "execution_count": 14,
   "metadata": {},
   "outputs": [],
   "source": [
    "import requests\n",
    "import pandas as pd"
   ]
  },
  {
   "cell_type": "code",
   "execution_count": 15,
   "metadata": {},
   "outputs": [
    {
     "data": {
      "text/plain": [
       "\"\\ndf = get_inat_obs({\\n        #'project_id': 'insects-of-micronesia',\\n        'd1': '2019-08-01',\\n        'd2': '2019-12-31',\\n        'user_login': 'thomascamacho',\\n        'per_page': 200,})\\n\""
      ]
     },
     "execution_count": 15,
     "metadata": {},
     "output_type": "execute_result"
    }
   ],
   "source": [
    "def get_inat_obs(q):\n",
    "    \"\"\"\n",
    "    Helpful site: https://api.inaturalist.org/v1/docs/#!/Observations/get_observations\n",
    "    look for the taxon ids and place ids in the urls on the web site.\n",
    "    \n",
    "    q is a dict like this:\n",
    "\n",
    "    q = {\n",
    "        #'project_id': 'insects-of-micronesia',\n",
    "        'd1': '2019-08-01',\n",
    "        'd2': '2019-12-31',\n",
    "        'user_login': 'thomascamacho',\n",
    "        'per_page': 200,\n",
    "    }\n",
    "    \"\"\"\n",
    "    \n",
    "    url = \"https://api.inaturalist.org/v1/observations?\"\n",
    "\n",
    "    df = pd.DataFrame()\n",
    "\n",
    "    page = 1\n",
    "    while True:\n",
    "        q['page'] = page\n",
    "        r = requests.get(url, params = q)\n",
    "\n",
    "        results = r.json()[\"results\"]\n",
    "        df = pd.concat([df, pd.DataFrame(r.json()[\"results\"])])\n",
    "\n",
    "        if r.json()[\"results\"] == []:\n",
    "            print(\"no more results, stopping\")\n",
    "            break\n",
    "        if page > 999:\n",
    "            break\n",
    "\n",
    "        if page == 1:\n",
    "            num_pages = int(r.json()[\"total_results\"] / r.json()[\"per_page\"])+1\n",
    "            print(r.json()[\"total_results\"])\n",
    "            print(num_pages)\n",
    "            print(\"Results:\", r.json()[\"total_results\"], \", \", num_pages, \" pages total\")\n",
    "        print(\"Retrieving page \", page)\n",
    "        page += 1\n",
    "    return df\n",
    "\n",
    "\"\"\"\n",
    "df = get_inat_obs({\n",
    "        #'project_id': 'insects-of-micronesia',\n",
    "        'd1': '2019-08-01',\n",
    "        'd2': '2019-12-31',\n",
    "        'user_login': 'thomascamacho',\n",
    "        'per_page': 200,})\n",
    "\"\"\""
   ]
  },
  {
   "cell_type": "code",
   "execution_count": 16,
   "metadata": {},
   "outputs": [
    {
     "name": "stdout",
     "output_type": "stream",
     "text": [
      "1068\n",
      "6\n",
      "Results: 1068 ,  6  pages total\n",
      "Retrieving page  1\n",
      "Retrieving page  2\n",
      "Retrieving page  3\n",
      "Retrieving page  4\n",
      "Retrieving page  5\n",
      "Retrieving page  6\n",
      "no more results, stopping\n"
     ]
    }
   ],
   "source": [
    "df = get_inat_obs({'project_id': 'insects-of-micronesia', 'd1': '2018-06-15', 'per_page': 200,})\n",
    "obs_ids = set() # A set for obs ids"
   ]
  },
  {
   "cell_type": "code",
   "execution_count": 17,
   "metadata": {},
   "outputs": [
    {
     "name": "stdout",
     "output_type": "stream",
     "text": [
      "36285968 Megymenum affine\n",
      "Three specimens from a cucumber farm collected by Leonard Sigrah.\n",
      "\n",
      "Appears to be a new island record for Kosrae.\n",
      "\n",
      "This appears to be the \"Truk stink bug\" listed in <a href=\"https://aubreymoore.github.io/crop-pest-list/list.html#Cucumber\">Nafus 1997. An Insect Survey of the Federate States of Micronesia and Palau</a>. Also listed in <a href=\"https://books.google.com/books?id=VD0rAAAAYAAJ\">Bryan 1949. Economic Insects of Micronesia: Report of the Insect Control Committee for Micronesia, 1947-1948.\n",
      "-----\n",
      "31326484 Chelonus formosanus\n",
      "Collected by Tedi Mary at Country Club of the Pacific, Guam.\n",
      "\n",
      "Numerous above turf on golf course. This is a nuisance pest flying into faces of golfers.\n",
      "\n",
      "Body length 5 mm.\n",
      "\n",
      "Looks like <i>Chelonus formosanus</i>. See http://www.nbair.res.in/Featured_insects/Chelonus-formosanus.php\n",
      "\n",
      "Possibly a new island record as a fortuitously introduced biocontrol agent. This is an egg-larval parasitoid of <i>Spodoptera</i>.\n",
      "\n",
      "-----\n",
      "29333274 Stag Beetles\n",
      "Collected live in the cabin of an aircraft arriving from South Korea.\n",
      "\n",
      "New island record for Guam (interdicted).\n",
      "-----\n",
      "16734728 Dysdercus decussatus\n",
      "Image by Ololk Kazuo emailed to me by Loyola Darius\n",
      "\n",
      "Probably a new island record for Palau.\n",
      "-----\n",
      "15747194 Conehead Termite\n",
      "Termites collected from coconut palm by Dr. Joel Miles.\n",
      "\n",
      "Tentatively identified as <i>Nasutitermes corniger</i> by Dr. Rudolf Scheffrahn.\n",
      "\n",
      "Probably a new island record for Palau.\n",
      "-----\n",
      "15067449 Citripestis eutraphera\n",
      "Reared from mango fruit collected at the University of Guam Ija Ag Expt Stn 2018-07-03.\n",
      "\n",
      "Possible new island record for Guam. Specimens submitted to SEL.\n",
      "-----\n",
      "13466275 Citripestis eutraphera\n",
      "Image sent to me by Glenn Dulla.\n",
      "\n",
      "Caterpillar feeding inside mango fruit.\n",
      "\n",
      "Possibly <i>Citripestis eutraphera</i>.\n",
      "\n",
      "Possible new island record for Guam.\n",
      "-----\n"
     ]
    }
   ],
   "source": [
    "# Search 'description' field for the string 'new'\n",
    "\n",
    "for i, r in df.iterrows():     \n",
    "    desc = r['description']   \n",
    "    if desc and ('new island record' in desc.lower()):\n",
    "        print(r['id'], r['species_guess'])\n",
    "        print(desc)\n",
    "        obs_ids.add(r['id'])\n",
    "        print('-----')"
   ]
  },
  {
   "cell_type": "code",
   "execution_count": 18,
   "metadata": {},
   "outputs": [
    {
     "name": "stdout",
     "output_type": "stream",
     "text": [
      "36470788 Gulf Fritillary\n",
      "new island record for Tinian\n",
      "-----\n",
      "35845152 Gulf Fritillary\n",
      "new island record for Saipan\n",
      "-----\n",
      "32572967 Canegrub\n",
      "Probably a new island record for Guam.\n",
      "-----\n",
      "18166461 Gulf Fritillary\n",
      "This is a new island record for Guam.\n",
      "-----\n"
     ]
    }
   ],
   "source": [
    "# Search comments for the string 'new'\n",
    "\n",
    "for i, r in df.iterrows():\n",
    "    if r['comments_count'] > 0:\n",
    "        for comment in r['comments']:\n",
    "            body = comment['body']\n",
    "            if 'new island record' in body.lower():\n",
    "                print(r['id'], r['species_guess'])\n",
    "                print(body)\n",
    "                obs_ids.add(r['id'])\n",
    "                print('-----')"
   ]
  },
  {
   "cell_type": "code",
   "execution_count": 20,
   "metadata": {},
   "outputs": [
    {
     "name": "stdout",
     "output_type": "stream",
     "text": [
      "[13466275, 15067449, 15747194, 16734728, 18166461, 29333274, 31326484, 32572967, 35845152, 36285968, 36470788]\n"
     ]
    }
   ],
   "source": [
    "obs_ids = sorted(obs_ids)"
   ]
  },
  {
   "cell_type": "code",
   "execution_count": 27,
   "metadata": {},
   "outputs": [
    {
     "name": "stdout",
     "output_type": "stream",
     "text": [
      "1\n",
      "1\n",
      "Results: 1 ,  1  pages total\n",
      "Retrieving page  1\n",
      "no more results, stopping\n",
      "1\n",
      "1\n",
      "Results: 1 ,  1  pages total\n",
      "Retrieving page  1\n",
      "no more results, stopping\n",
      "1\n",
      "1\n",
      "Results: 1 ,  1  pages total\n",
      "Retrieving page  1\n",
      "no more results, stopping\n",
      "1\n",
      "1\n",
      "Results: 1 ,  1  pages total\n",
      "Retrieving page  1\n",
      "no more results, stopping\n",
      "1\n",
      "1\n",
      "Results: 1 ,  1  pages total\n",
      "Retrieving page  1\n",
      "no more results, stopping\n",
      "1\n",
      "1\n",
      "Results: 1 ,  1  pages total\n",
      "Retrieving page  1\n",
      "no more results, stopping\n",
      "1\n",
      "1\n",
      "Results: 1 ,  1  pages total\n",
      "Retrieving page  1\n",
      "no more results, stopping\n",
      "1\n",
      "1\n",
      "Results: 1 ,  1  pages total\n",
      "Retrieving page  1\n",
      "no more results, stopping\n",
      "1\n",
      "1\n",
      "Results: 1 ,  1  pages total\n",
      "Retrieving page  1\n",
      "no more results, stopping\n",
      "1\n",
      "1\n",
      "Results: 1 ,  1  pages total\n",
      "Retrieving page  1\n",
      "no more results, stopping\n",
      "1\n",
      "1\n",
      "Results: 1 ,  1  pages total\n",
      "Retrieving page  1\n",
      "no more results, stopping\n",
      "    \n",
      "@online{ x,\n",
      "  title = { iNaturalist observation 3584515: Bluejacket },\n",
      "  author = { iNaturalist },\n",
      "  date = { 2016-07-01 },\n",
      "  url = { https://www.inaturalist.org/observations/3584515 },\n",
      "}    \n",
      "@online{ x,\n",
      "  title = { iNaturalist observation 3584515: Bluejacket },\n",
      "  author = { iNaturalist },\n",
      "  date = { 2016-07-01 },\n",
      "  url = { https://www.inaturalist.org/observations/3584515 },\n",
      "}    \n",
      "@online{ x,\n",
      "  title = { iNaturalist observation 3584515: Bluejacket },\n",
      "  author = { iNaturalist },\n",
      "  date = { 2016-07-01 },\n",
      "  url = { https://www.inaturalist.org/observations/3584515 },\n",
      "}    \n",
      "@online{ x,\n",
      "  title = { iNaturalist observation 3584515: Bluejacket },\n",
      "  author = { iNaturalist },\n",
      "  date = { 2016-07-01 },\n",
      "  url = { https://www.inaturalist.org/observations/3584515 },\n",
      "}    \n",
      "@online{ x,\n",
      "  title = { iNaturalist observation 3584515: Bluejacket },\n",
      "  author = { iNaturalist },\n",
      "  date = { 2016-07-01 },\n",
      "  url = { https://www.inaturalist.org/observations/3584515 },\n",
      "}    \n",
      "@online{ x,\n",
      "  title = { iNaturalist observation 3584515: Bluejacket },\n",
      "  author = { iNaturalist },\n",
      "  date = { 2016-07-01 },\n",
      "  url = { https://www.inaturalist.org/observations/3584515 },\n",
      "}    \n",
      "@online{ x,\n",
      "  title = { iNaturalist observation 3584515: Bluejacket },\n",
      "  author = { iNaturalist },\n",
      "  date = { 2016-07-01 },\n",
      "  url = { https://www.inaturalist.org/observations/3584515 },\n",
      "}    \n",
      "@online{ x,\n",
      "  title = { iNaturalist observation 3584515: Bluejacket },\n",
      "  author = { iNaturalist },\n",
      "  date = { 2016-07-01 },\n",
      "  url = { https://www.inaturalist.org/observations/3584515 },\n",
      "}    \n",
      "@online{ x,\n",
      "  title = { iNaturalist observation 3584515: Bluejacket },\n",
      "  author = { iNaturalist },\n",
      "  date = { 2016-07-01 },\n",
      "  url = { https://www.inaturalist.org/observations/3584515 },\n",
      "}    \n",
      "@online{ x,\n",
      "  title = { iNaturalist observation 3584515: Bluejacket },\n",
      "  author = { iNaturalist },\n",
      "  date = { 2016-07-01 },\n",
      "  url = { https://www.inaturalist.org/observations/3584515 },\n",
      "}    \n",
      "@online{ x,\n",
      "  title = { iNaturalist observation 3584515: Bluejacket },\n",
      "  author = { iNaturalist },\n",
      "  date = { 2016-07-01 },\n",
      "  url = { https://www.inaturalist.org/observations/3584515 },\n",
      "}\n"
     ]
    }
   ],
   "source": [
    "# Generate bibtex items.\n",
    "\n",
    "template = \"\"\"    \n",
    "@online{{ x,\n",
    "  title = {{ {} }},\n",
    "  author = {{ iNaturalist }},\n",
    "  date = {{ {} }},\n",
    "  url = {{ {} }},\n",
    "}}\"\"\"\n",
    "\n",
    "bibtex = ''\n",
    "for obs_id in obs_ids:\n",
    "    df = get_inat_obs({'id': r['id']})\n",
    "    for i, r in df.iterrows():\n",
    "        title = 'iNaturalist observation {}: {}'.format(r['id'], r['species_guess']) \n",
    "        date = r['observed_on']\n",
    "        url = 'https://www.inaturalist.org/observations/{}'.format(r['id'])\n",
    "\n",
    "        bibtex_item = template.format(title, date, url)        \n",
    "        bibtex += bibtex_item\n",
    "print(bibtex)"
   ]
  },
  {
   "cell_type": "code",
   "execution_count": null,
   "metadata": {},
   "outputs": [],
   "source": [
    "for column in df.columns:\n",
    "    print(column)"
   ]
  },
  {
   "cell_type": "code",
   "execution_count": null,
   "metadata": {},
   "outputs": [],
   "source": [
    "df = get_inat_obs({'id': 3584515})"
   ]
  },
  {
   "cell_type": "code",
   "execution_count": null,
   "metadata": {},
   "outputs": [],
   "source": [
    "df"
   ]
  },
  {
   "cell_type": "code",
   "execution_count": null,
   "metadata": {},
   "outputs": [],
   "source": []
  }
 ],
 "metadata": {
  "kernelspec": {
   "display_name": "Python 3",
   "language": "python",
   "name": "python3"
  },
  "language_info": {
   "codemirror_mode": {
    "name": "ipython",
    "version": 3
   },
   "file_extension": ".py",
   "mimetype": "text/x-python",
   "name": "python",
   "nbconvert_exporter": "python",
   "pygments_lexer": "ipython3",
   "version": "3.5.2"
  }
 },
 "nbformat": 4,
 "nbformat_minor": 2
}
