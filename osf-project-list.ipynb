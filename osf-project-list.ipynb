{
 "cells": [
  {
   "cell_type": "code",
   "execution_count": 1,
   "metadata": {},
   "outputs": [],
   "source": [
    "import pyosf\n",
    "import getpass"
   ]
  },
  {
   "cell_type": "code",
   "execution_count": 2,
   "metadata": {},
   "outputs": [
    {
     "name": "stdout",
     "output_type": "stream",
     "text": [
      "········\n"
     ]
    }
   ],
   "source": [
    "password = getpass.getpass()\n",
    "session = pyosf.Session(username='aubreymoore@guam.net', password=password)"
   ]
  },
  {
   "cell_type": "code",
   "execution_count": 3,
   "metadata": {},
   "outputs": [
    {
     "name": "stdout",
     "output_type": "stream",
     "text": [
      "[{'family_name': 'Moore', 'accepted_terms_of_service': True, 'education': [], 'active': True, 'employment': [], 'given_name': 'Aubrey', 'can_view_reviews': [], 'id': 'ah4vf', 'date_registered': '2016-06-10T04:45:03.928000', 'locale': 'en_US', 'social': {}, 'timezone': 'Pacific/Guam', 'middle_names': '', 'suffix': '', 'full_name': 'Aubrey Moore'}]\n",
      "\n",
      "ux6jn: Rasberry Pi Workshop for University of Guam 4H Program\n",
      "rz5u6: PIDDRS Archive\n",
      "4sh2w: Development of a Camera Trap for Insects\n",
      "kbg3m: Coconut Palm Health Survey\n",
      "ndz2h: Entomology Section: 17th Annual Quarantine Training Workshop, Guam 2019\n",
      "4hbgn: OrNV isolates - bioassay\n",
      "qdg46: Herbarium Round 2\n",
      "rdmu9: University of Guam Insect Collection\n",
      "axh8j: stupid template\n",
      "er856: Some of My Favorite Computer Tools for Doing Science\n"
     ]
    }
   ],
   "source": [
    "users = session.find_users('Aubrey Moore')  # a list of user ids\n",
    "print(users)\n",
    "print()\n",
    "jon_id = users[0]['id']  # we're just using the first one\n",
    "projs = session.find_user_projects()  # id=None to find your own projects\n",
    "for proj in projs:\n",
    "    print('{}: {}'.format(proj.id, proj.title))"
   ]
  },
  {
   "cell_type": "code",
   "execution_count": 4,
   "metadata": {},
   "outputs": [
    {
     "name": "stdout",
     "output_type": "stream",
     "text": [
      "/home/aubrey/.local/share/pyosf\n"
     ]
    }
   ],
   "source": [
    "print(pyosf.constants.PYOSF_FOLDER)"
   ]
  },
  {
   "cell_type": "code",
   "execution_count": 6,
   "metadata": {},
   "outputs": [
    {
     "ename": "TypeError",
     "evalue": "find_by_key() missing 2 required positional arguments: 'key' and 'val'",
     "output_type": "error",
     "traceback": [
      "\u001b[0;31m---------------------------------------------------------------------------\u001b[0m",
      "\u001b[0;31mTypeError\u001b[0m                                 Traceback (most recent call last)",
      "\u001b[0;32m<ipython-input-6-ed28dc599a22>\u001b[0m in \u001b[0;36m<module>\u001b[0;34m\u001b[0m\n\u001b[0;32m----> 1\u001b[0;31m \u001b[0mpyosf\u001b[0m\u001b[0;34m.\u001b[0m\u001b[0mtools\u001b[0m\u001b[0;34m.\u001b[0m\u001b[0mfind_by_key\u001b[0m\u001b[0;34m(\u001b[0m\u001b[0;34m'er856'\u001b[0m\u001b[0;34m)\u001b[0m\u001b[0;34m\u001b[0m\u001b[0m\n\u001b[0m",
      "\u001b[0;31mTypeError\u001b[0m: find_by_key() missing 2 required positional arguments: 'key' and 'val'"
     ]
    }
   ],
   "source": [
    "pyosf.tools.find_by_key('er856')"
   ]
  },
  {
   "cell_type": "code",
   "execution_count": null,
   "metadata": {},
   "outputs": [],
   "source": []
  }
 ],
 "metadata": {
  "kernelspec": {
   "display_name": "Python 3",
   "language": "python",
   "name": "python3"
  },
  "language_info": {
   "codemirror_mode": {
    "name": "ipython",
    "version": 3
   },
   "file_extension": ".py",
   "mimetype": "text/x-python",
   "name": "python",
   "nbconvert_exporter": "python",
   "pygments_lexer": "ipython3",
   "version": "3.5.2"
  }
 },
 "nbformat": 4,
 "nbformat_minor": 2
}
